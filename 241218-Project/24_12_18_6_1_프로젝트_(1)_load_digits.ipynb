{
  "cells": [
    {
      "cell_type": "markdown",
      "metadata": {
        "id": "view-in-github",
        "colab_type": "text"
      },
      "source": [
        "<a href=\"https://colab.research.google.com/github/EUNSOLLEE-aiffel/first-repository/blob/master/24_12_18_6_1_%ED%94%84%EB%A1%9C%EC%A0%9D%ED%8A%B8_(1)_load_digits.ipynb\" target=\"_parent\"><img src=\"https://colab.research.google.com/assets/colab-badge.svg\" alt=\"Open In Colab\"/></a>"
      ]
    },
    {
      "cell_type": "code",
      "execution_count": 25,
      "metadata": {
        "colab": {
          "base_uri": "https://localhost:8080/"
        },
        "id": "FQUhZiX64CV5",
        "outputId": "a5a82dd2-eae0-48fd-a449-f721cff488a5"
      },
      "outputs": [
        {
          "output_type": "stream",
          "name": "stdout",
          "text": [
            "1.5.2\n"
          ]
        }
      ],
      "source": [
        "import sklearn\n",
        "print(sklearn.__version__)"
      ]
    },
    {
      "cell_type": "code",
      "execution_count": 26,
      "metadata": {
        "id": "Kvcdn2ds4N5B"
      },
      "outputs": [],
      "source": [
        "# (1) 필요한 모듈 import하기\n",
        "from sklearn.datasets import load_digits\n",
        "from sklearn.model_selection import train_test_split\n",
        "from sklearn.metrics import classification_report"
      ]
    },
    {
      "cell_type": "code",
      "execution_count": 27,
      "metadata": {
        "colab": {
          "base_uri": "https://localhost:8080/"
        },
        "id": "-p_khjT64gZu",
        "outputId": "b035e43f-2919-442c-d2ef-a5a0d5af339a"
      },
      "outputs": [
        {
          "output_type": "stream",
          "name": "stdout",
          "text": [
            "dict_keys(['data', 'target', 'frame', 'feature_names', 'target_names', 'images', 'DESCR'])\n"
          ]
        }
      ],
      "source": [
        "# (2) 데이터 준비\n",
        "from sklearn.datasets import load_digits\n",
        "digits = load_digits()\n",
        "print(digits.keys())"
      ]
    },
    {
      "cell_type": "code",
      "execution_count": 28,
      "metadata": {
        "colab": {
          "base_uri": "https://localhost:8080/"
        },
        "id": "DFCdXH125xsa",
        "outputId": "49ff1f79-e0f2-446c-9347-6f3ab3d61713"
      },
      "outputs": [
        {
          "output_type": "stream",
          "name": "stdout",
          "text": [
            "Feature Data Shape: (1797, 64)\n",
            "Label Data Shape: (1797,)\n",
            "Target Names: [0 1 2 3 4 5 6 7 8 9]\n",
            ".. _digits_dataset:\n",
            "\n",
            "Optical recognition of handwritten digits dataset\n",
            "--------------------------------------------------\n",
            "\n",
            "**Data Set Characteristics:**\n",
            "\n",
            ":Number of Instances: 1797\n",
            ":Number of Attributes: 64\n",
            ":Attribute Information: 8x8 image of integer pixels in the range 0..16.\n",
            ":Missing Attribute Values: None\n",
            ":Creator: E. Alpaydin (alpaydin '@' boun.edu.tr)\n",
            ":Date: July; 1998\n",
            "\n",
            "This is a copy of the test set of the UCI ML hand-written digits datasets\n",
            "https://archive.ics.uci.edu/ml/datasets/Optical+Recognition+of+Handwritten+Digits\n",
            "\n",
            "The data set contains images of hand-written digits: 10 classes where\n",
            "each class refers to a digit.\n",
            "\n",
            "Preprocessing programs made available by NIST were used to extract\n",
            "normalized bitmaps of handwritten digits from a preprinted form. From a\n",
            "total of 43 people, 30 contributed to the training set and different 13\n",
            "to the test set. 32x32 bitmaps are divided into nonoverlapping blocks of\n",
            "4x4 and the number of on pixels are counted in each block. This generates\n",
            "an input matrix of 8x8 where each element is an integer in the range\n",
            "0..16. This reduces dimensionality and gives invariance to small\n",
            "distortions.\n",
            "\n",
            "For info on NIST preprocessing routines, see M. D. Garris, J. L. Blue, G.\n",
            "T. Candela, D. L. Dimmick, J. Geist, P. J. Grother, S. A. Janet, and C.\n",
            "L. Wilson, NIST Form-Based Handprint Recognition System, NISTIR 5469,\n",
            "1994.\n",
            "\n",
            ".. dropdown:: References\n",
            "\n",
            "  - C. Kaynak (1995) Methods of Combining Multiple Classifiers and Their\n",
            "    Applications to Handwritten Digit Recognition, MSc Thesis, Institute of\n",
            "    Graduate Studies in Science and Engineering, Bogazici University.\n",
            "  - E. Alpaydin, C. Kaynak (1998) Cascading Classifiers, Kybernetika.\n",
            "  - Ken Tang and Ponnuthurai N. Suganthan and Xi Yao and A. Kai Qin.\n",
            "    Linear dimensionalityreduction using relevance weighted LDA. School of\n",
            "    Electrical and Electronic Engineering Nanyang Technological University.\n",
            "    2005.\n",
            "  - Claudio Gentile. A New Approximate Maximal Margin Classification\n",
            "    Algorithm. NIPS. 2000.\n",
            "\n"
          ]
        }
      ],
      "source": [
        "# (3) 데이터 이해하기\n",
        "\n",
        "# Feature Data 지정하기\n",
        "digits_data = digits.data\n",
        "print(\"Feature Data Shape:\", digits_data.shape)\n",
        "\n",
        "# Label Data 지정하기\n",
        "digits_labels = digits.target\n",
        "print(\"Label Data Shape:\", digits_labels.shape)\n",
        "\n",
        "# Target Names 출력해 보기\n",
        "target_names = digits.target_names\n",
        "print(\"Target Names:\", target_names)\n",
        "\n",
        "# 데이터 Describe 해 보기\n",
        "print(digits.DESCR)"
      ]
    },
    {
      "cell_type": "code",
      "execution_count": 29,
      "metadata": {
        "id": "9JKtzGKMO2Gp"
      },
      "outputs": [],
      "source": [
        "# (4) train, test 데이터 분리\n",
        "X_train, X_test, y_train, y_test = train_test_split(digits_data,\n",
        "                                                    digits_labels,\n",
        "                                                    test_size=0.2,\n",
        "                                                    random_state=15)"
      ]
    },
    {
      "cell_type": "code",
      "execution_count": 30,
      "metadata": {
        "colab": {
          "base_uri": "https://localhost:8080/"
        },
        "id": "vq72KFDARYrL",
        "outputId": "4f131e78-17c5-4dd9-a6d4-317de633cbeb"
      },
      "outputs": [
        {
          "output_type": "stream",
          "name": "stdout",
          "text": [
            "[ Decision Tree 결과 지표 ]\n",
            "\n",
            "** confusion_matrix:\n",
            " [[29  0  0  0  0  0  0  0  2  0]\n",
            " [ 0 31  3  1  1  0  1  0  1  0]\n",
            " [ 0  1 33  1  0  1  0  0  1  1]\n",
            " [ 0  0  0 22  0  1  1  0  2  1]\n",
            " [ 0  0  0  1 32  0  4  3  0  1]\n",
            " [ 0  0  3  0  0 31  0  0  1  0]\n",
            " [ 0  1  2  0  0  1 34  0  0  0]\n",
            " [ 0  0  0  1  0  0  0 31  0  2]\n",
            " [ 0  2  3  0  0  2  0  0 26  2]\n",
            " [ 0  3  2  0  0  2  0  0  2 34]]\n",
            "\n",
            "** Accuracy:\n",
            " 0.8416666666666667\n",
            "\n",
            "** Precision, Recall, F1-Score:\n",
            "               precision    recall  f1-score   support\n",
            "\n",
            "           0       1.00      0.94      0.97        31\n",
            "           1       0.82      0.82      0.82        38\n",
            "           2       0.72      0.87      0.79        38\n",
            "           3       0.85      0.81      0.83        27\n",
            "           4       0.97      0.78      0.86        41\n",
            "           5       0.82      0.89      0.85        35\n",
            "           6       0.85      0.89      0.87        38\n",
            "           7       0.91      0.91      0.91        34\n",
            "           8       0.74      0.74      0.74        35\n",
            "           9       0.83      0.79      0.81        43\n",
            "\n",
            "    accuracy                           0.84       360\n",
            "   macro avg       0.85      0.84      0.84       360\n",
            "weighted avg       0.85      0.84      0.84       360\n",
            "\n"
          ]
        }
      ],
      "source": [
        "# (5) 다양한 모델로 학습시켜보기\n",
        "\n",
        "# Decision Tree 사용해 보기\n",
        "from sklearn.tree import DecisionTreeClassifier\n",
        "\n",
        "decision_tree = DecisionTreeClassifier(random_state=32) # 객체 생성\n",
        "decision_tree.fit(X_train, y_train) # 훈련\n",
        "y_pred = decision_tree.predict(X_test) # 예측\n",
        "\n",
        "\n",
        "# (6) 모델을 평가해 보기\n",
        "\n",
        "print('[ Decision Tree 결과 지표 ]')\n",
        "print()\n",
        "\n",
        "# 혼동 행렬 (confusion_matrix)\n",
        "from sklearn.metrics import confusion_matrix\n",
        "matrix=confusion_matrix(y_test, y_pred)\n",
        "print(\"** confusion_matrix:\\n\",matrix)\n",
        "# 이 모델은 60개의 데이터를 잘못 예측함\n",
        "print()\n",
        "\n",
        "# 정확도 (Accuracy)\n",
        "from sklearn.metrics import accuracy_score\n",
        "accuracy = accuracy_score(y_test, y_pred)\n",
        "print(\"** Accuracy:\\n\", accuracy)\n",
        "# 정확도 : 84%\n",
        "print()\n",
        "\n",
        "# 정밀도 (Precision), 재현율 (Recall), F1-Score\n",
        "print(\"** Precision, Recall, F1-Score:\\n\",classification_report(y_test, y_pred))\n",
        "# \"0\"의 정밀도, 재현율, F1-Score : 100%, 94%, 97%"
      ]
    },
    {
      "cell_type": "code",
      "execution_count": 31,
      "metadata": {
        "colab": {
          "base_uri": "https://localhost:8080/"
        },
        "id": "LbJzwrzpTfUT",
        "outputId": "a523c64c-da7d-4182-be03-f10f31d47d3d"
      },
      "outputs": [
        {
          "output_type": "stream",
          "name": "stdout",
          "text": [
            "[ Random Forest 결과 지표 ]\n",
            "\n",
            "** confusion_matrix:\n",
            " [[29  0  0  0  2  0  0  0  0  0]\n",
            " [ 0 37  0  0  0  1  0  0  0  0]\n",
            " [ 0  0 38  0  0  0  0  0  0  0]\n",
            " [ 0  0  0 26  0  0  0  0  1  0]\n",
            " [ 0  0  0  0 41  0  0  0  0  0]\n",
            " [ 0  0  0  0  0 35  0  0  0  0]\n",
            " [ 1  1  0  0  0  0 36  0  0  0]\n",
            " [ 0  0  0  0  0  0  0 34  0  0]\n",
            " [ 0  1  0  0  0  0  0  0 34  0]\n",
            " [ 0  0  0  0  0  0  0  0  1 42]]\n",
            "\n",
            "** Accuracy:\n",
            " 0.9777777777777777\n",
            "\n",
            "** Precision, Recall, F1-Score:\n",
            "               precision    recall  f1-score   support\n",
            "\n",
            "           0       0.97      0.94      0.95        31\n",
            "           1       0.95      0.97      0.96        38\n",
            "           2       1.00      1.00      1.00        38\n",
            "           3       1.00      0.96      0.98        27\n",
            "           4       0.95      1.00      0.98        41\n",
            "           5       0.97      1.00      0.99        35\n",
            "           6       1.00      0.95      0.97        38\n",
            "           7       1.00      1.00      1.00        34\n",
            "           8       0.94      0.97      0.96        35\n",
            "           9       1.00      0.98      0.99        43\n",
            "\n",
            "    accuracy                           0.98       360\n",
            "   macro avg       0.98      0.98      0.98       360\n",
            "weighted avg       0.98      0.98      0.98       360\n",
            "\n"
          ]
        }
      ],
      "source": [
        "# Random Forest 사용해 보기\n",
        "from sklearn.ensemble import RandomForestClassifier\n",
        "\n",
        "random_forest = RandomForestClassifier(random_state=32) # 객체 생성\n",
        "random_forest.fit(X_train, y_train) # 훈련\n",
        "y_pred = random_forest.predict(X_test) # 예측\n",
        "\n",
        "\n",
        "# (6) 모델을 평가해 보기\n",
        "\n",
        "print('[ Random Forest 결과 지표 ]')\n",
        "print()\n",
        "\n",
        "# 혼동 행렬 (confusion_matrix)\n",
        "from sklearn.metrics import confusion_matrix\n",
        "matrix=confusion_matrix(y_test, y_pred)\n",
        "print(\"** confusion_matrix:\\n\",matrix)\n",
        "# 이 모델은 7개의 데이터를 잘못 예측함\n",
        "print()\n",
        "\n",
        "# 정확도 (Accuracy)\n",
        "from sklearn.metrics import accuracy_score\n",
        "accuracy = accuracy_score(y_test, y_pred)\n",
        "print(\"** Accuracy:\\n\", accuracy)\n",
        "# 정확도 : 98%\n",
        "print()\n",
        "\n",
        "# 정밀도 (Precision), 재현율 (Recall), F1-Score\n",
        "print(\"** Precision, Recall, F1-Score:\\n\",classification_report(y_test, y_pred))\n",
        "# \"0\"의 정밀도, 재현율, F1-Score : 97%, 94%, 95%"
      ]
    },
    {
      "cell_type": "code",
      "execution_count": 32,
      "metadata": {
        "colab": {
          "base_uri": "https://localhost:8080/"
        },
        "id": "bUWmKw6QTff2",
        "outputId": "ebd8f580-979c-4e0c-e399-23725de82847"
      },
      "outputs": [
        {
          "output_type": "stream",
          "name": "stdout",
          "text": [
            "[ SVM 결과 지표 ]\n",
            "\n",
            "** confusion_matrix:\n",
            " [[30  0  0  0  1  0  0  0  0  0]\n",
            " [ 0 38  0  0  0  0  0  0  0  0]\n",
            " [ 0  0 38  0  0  0  0  0  0  0]\n",
            " [ 0  0  0 26  0  0  0  0  1  0]\n",
            " [ 0  0  0  0 40  0  0  0  0  1]\n",
            " [ 0  0  0  0  0 35  0  0  0  0]\n",
            " [ 0  0  0  0  0  0 38  0  0  0]\n",
            " [ 0  0  0  0  0  0  0 34  0  0]\n",
            " [ 0  2  0  0  0  0  0  0 33  0]\n",
            " [ 0  0  0  1  0  0  0  0  0 42]]\n",
            "\n",
            "** Accuracy:\n",
            " 0.9833333333333333\n",
            "\n",
            "** Precision, Recall, F1-Score:\n",
            "               precision    recall  f1-score   support\n",
            "\n",
            "           0       1.00      0.97      0.98        31\n",
            "           1       0.95      1.00      0.97        38\n",
            "           2       1.00      1.00      1.00        38\n",
            "           3       0.96      0.96      0.96        27\n",
            "           4       0.98      0.98      0.98        41\n",
            "           5       1.00      1.00      1.00        35\n",
            "           6       1.00      1.00      1.00        38\n",
            "           7       1.00      1.00      1.00        34\n",
            "           8       0.97      0.94      0.96        35\n",
            "           9       0.98      0.98      0.98        43\n",
            "\n",
            "    accuracy                           0.98       360\n",
            "   macro avg       0.98      0.98      0.98       360\n",
            "weighted avg       0.98      0.98      0.98       360\n",
            "\n"
          ]
        }
      ],
      "source": [
        "# SVM 사용해 보기\n",
        "from sklearn import svm\n",
        "\n",
        "svm_model = svm.SVC() # 객체 생성\n",
        "svm_model.fit(X_train, y_train) # 훈련\n",
        "y_pred = svm_model.predict(X_test) # 예측\n",
        "\n",
        "\n",
        "# (6) 모델을 평가해 보기\n",
        "\n",
        "print('[ SVM 결과 지표 ]')\n",
        "print()\n",
        "\n",
        "# 혼동 행렬 (confusion_matrix)\n",
        "from sklearn.metrics import confusion_matrix\n",
        "matrix=confusion_matrix(y_test, y_pred)\n",
        "print(\"** confusion_matrix:\\n\",matrix)\n",
        "# 이 모델은 6개의 데이터를 잘못 예측함\n",
        "print()\n",
        "\n",
        "# 정확도 (Accuracy)\n",
        "from sklearn.metrics import accuracy_score\n",
        "accuracy = accuracy_score(y_test, y_pred)\n",
        "print(\"** Accuracy:\\n\", accuracy)\n",
        "# 정확도 : 98%\n",
        "print()\n",
        "\n",
        "# 정밀도 (Precision), 재현율 (Recall), F1-Score\n",
        "print(\"** Precision, Recall, F1-Score:\\n\",classification_report(y_test, y_pred))\n",
        "# \"0\"의 정밀도, 재현율, F1-Score : 100%, 97%, 98%"
      ]
    },
    {
      "cell_type": "code",
      "execution_count": 33,
      "metadata": {
        "colab": {
          "base_uri": "https://localhost:8080/"
        },
        "id": "9TawVsQNTfnf",
        "outputId": "50b71f06-dbde-4837-ab8d-b5bdd72df7cf"
      },
      "outputs": [
        {
          "output_type": "stream",
          "name": "stdout",
          "text": [
            "[ SGD Classifier 결과 지표 ]\n",
            "\n",
            "** confusion_matrix:\n",
            " [[30  0  0  0  0  0  0  0  1  0]\n",
            " [ 0 25  0  0  0  0  0  0 13  0]\n",
            " [ 0  0 36  0  0  0  0  0  2  0]\n",
            " [ 0  0  0 23  0  1  0  0  3  0]\n",
            " [ 0  0  0  0 40  0  0  0  1  0]\n",
            " [ 0  0  0  0  0 35  0  0  0  0]\n",
            " [ 0  0  0  0  0  1 34  0  3  0]\n",
            " [ 0  0  0  0  0  0  0 34  0  0]\n",
            " [ 0  0  0  0  0  0  0  0 35  0]\n",
            " [ 0  0  0  1  0  0  0  2  5 35]]\n",
            "\n",
            "** Accuracy:\n",
            " 0.9083333333333333\n",
            "\n",
            "** Precision, Recall, F1-Score:\n",
            "               precision    recall  f1-score   support\n",
            "\n",
            "           0       1.00      0.97      0.98        31\n",
            "           1       1.00      0.66      0.79        38\n",
            "           2       1.00      0.95      0.97        38\n",
            "           3       0.96      0.85      0.90        27\n",
            "           4       1.00      0.98      0.99        41\n",
            "           5       0.95      1.00      0.97        35\n",
            "           6       1.00      0.89      0.94        38\n",
            "           7       0.94      1.00      0.97        34\n",
            "           8       0.56      1.00      0.71        35\n",
            "           9       1.00      0.81      0.90        43\n",
            "\n",
            "    accuracy                           0.91       360\n",
            "   macro avg       0.94      0.91      0.91       360\n",
            "weighted avg       0.94      0.91      0.91       360\n",
            "\n"
          ]
        }
      ],
      "source": [
        "# SGD Classifier 사용해 보기\n",
        "from sklearn.linear_model import SGDClassifier\n",
        "\n",
        "sgd_model = SGDClassifier() # 객체 생성\n",
        "sgd_model.fit(X_train, y_train) # 훈련\n",
        "y_pred = sgd_model.predict(X_test) # 예측\n",
        "\n",
        "\n",
        "# (6) 모델을 평가해 보기\n",
        "\n",
        "print('[ SGD Classifier 결과 지표 ]')\n",
        "print()\n",
        "\n",
        "# 혼동 행렬 (confusion_matrix)\n",
        "from sklearn.metrics import confusion_matrix\n",
        "matrix=confusion_matrix(y_test, y_pred)\n",
        "print(\"** confusion_matrix:\\n\",matrix)\n",
        "# 이 모델은 25개의 데이터를 잘못 예측함\n",
        "print()\n",
        "\n",
        "# 정확도 (Accuracy)\n",
        "from sklearn.metrics import accuracy_score\n",
        "accuracy = accuracy_score(y_test, y_pred)\n",
        "print(\"** Accuracy:\\n\", accuracy)\n",
        "# 정확도 : 91%\n",
        "print()\n",
        "\n",
        "# 정밀도 (Precision), 재현율 (Recall), F1-Score\n",
        "print(\"** Precision, Recall, F1-Score:\\n\",classification_report(y_test, y_pred))\n",
        "# \"0\"의 정밀도, 재현율, F1-Score : 100%, 97%, 98%"
      ]
    },
    {
      "cell_type": "code",
      "execution_count": 34,
      "metadata": {
        "colab": {
          "base_uri": "https://localhost:8080/"
        },
        "id": "AVZ1efpXTfxz",
        "outputId": "da97ca8a-b186-4198-fc58-92e4327e3083"
      },
      "outputs": [
        {
          "output_type": "stream",
          "name": "stdout",
          "text": [
            "[ Logistic Regression 결과 지표 ]\n",
            "\n",
            "** confusion_matrix:\n",
            " [[30  0  0  0  1  0  0  0  0  0]\n",
            " [ 0 37  0  0  0  0  0  0  1  0]\n",
            " [ 0  1 37  0  0  0  0  0  0  0]\n",
            " [ 0  0  0 25  0  1  0  0  1  0]\n",
            " [ 0  0  0  0 40  0  0  0  1  0]\n",
            " [ 0  0  0  0  0 34  0  0  0  1]\n",
            " [ 0  1  0  0  0  0 37  0  0  0]\n",
            " [ 0  0  0  0  0  0  0 34  0  0]\n",
            " [ 0  0  0  0  1  0  0  0 34  0]\n",
            " [ 0  0  0  1  0  0  0  0  1 41]]\n",
            "\n",
            "** Accuracy:\n",
            " 0.9694444444444444\n",
            "\n",
            "** Precision, Recall, F1-Score:\n",
            "               precision    recall  f1-score   support\n",
            "\n",
            "           0       1.00      0.97      0.98        31\n",
            "           1       0.95      0.97      0.96        38\n",
            "           2       1.00      0.97      0.99        38\n",
            "           3       0.96      0.93      0.94        27\n",
            "           4       0.95      0.98      0.96        41\n",
            "           5       0.97      0.97      0.97        35\n",
            "           6       1.00      0.97      0.99        38\n",
            "           7       1.00      1.00      1.00        34\n",
            "           8       0.89      0.97      0.93        35\n",
            "           9       0.98      0.95      0.96        43\n",
            "\n",
            "    accuracy                           0.97       360\n",
            "   macro avg       0.97      0.97      0.97       360\n",
            "weighted avg       0.97      0.97      0.97       360\n",
            "\n"
          ]
        }
      ],
      "source": [
        "# Logistic Regression 사용해 보기\n",
        "from sklearn.linear_model import LogisticRegression\n",
        "\n",
        "logistic_model = LogisticRegression(max_iter=500) # 객체 생성\n",
        "logistic_model.fit(X_train, y_train) # 훈련\n",
        "y_pred = logistic_model.predict(X_test) # 예측\n",
        "\n",
        "\n",
        "# (6) 모델을 평가해 보기\n",
        "\n",
        "print('[ Logistic Regression 결과 지표 ]')\n",
        "print()\n",
        "\n",
        "# 혼동 행렬 (confusion_matrix)\n",
        "from sklearn.metrics import confusion_matrix\n",
        "matrix=confusion_matrix(y_test, y_pred)\n",
        "print(\"** confusion_matrix:\\n\",matrix)\n",
        "# 이 모델은 11개의 데이터를 잘못 예측함\n",
        "print()\n",
        "\n",
        "# 정확도 (Accuracy)\n",
        "from sklearn.metrics import accuracy_score\n",
        "accuracy = accuracy_score(y_test, y_pred)\n",
        "print(\"** Accuracy:\\n\", accuracy)\n",
        "# 정확도 : 97%\n",
        "print()\n",
        "\n",
        "# 정밀도 (Precision), 재현율 (Recall), F1-Score\n",
        "print(\"** Precision, Recall, F1-Score:\\n\",classification_report(y_test, y_pred))\n",
        "# \"0\"의 정밀도, 재현율, F1-Score : 100%, 97%, 98%"
      ]
    },
    {
      "cell_type": "markdown",
      "source": [
        "# (6) 모델을 평가해 보기\n",
        "1. 학습된 모델들의 테스트데이터 예측 결과를 어떻게 해석해야 할까요?\n",
        "```\n",
        "상기 코드란에 주석으로 작성하였습니다.\n",
        "```\n",
        "2. 모델의 성능을 평가하는 지표로는 무엇이 좋을까요? sklearn.metrics 에서 제공하는 평가지표 중 적절한 것을 선택해 보세요.\n",
        "선택하신 이유도 설명해 주세요.\n",
        "```\n",
        "모델의 성능을 평가하는 가장 적절한 평가지표는 F1-score 입니다.\n",
        "10개의 숫자(클래스)를 정확하게 분류하는 것이 중요하기 때문입니다.\n",
        "정확도만으로는 모델의 세부 성능을 평가하기 어려우므로 각 클래스에서 예측 성능의 균형을 잘 맞추고, 모든 숫자에 대해 고른 성능을 평가할 수 있는 F1-score가 가장 적합합니다.\n",
        "```"
      ],
      "metadata": {
        "id": "0ZQ1fXvr7LvA"
      }
    }
  ],
  "metadata": {
    "colab": {
      "provenance": [],
      "authorship_tag": "ABX9TyP9ox8jJebIgEHcVr8k8w4j",
      "include_colab_link": true
    },
    "kernelspec": {
      "display_name": "Python 3",
      "name": "python3"
    },
    "language_info": {
      "name": "python"
    }
  },
  "nbformat": 4,
  "nbformat_minor": 0
}
