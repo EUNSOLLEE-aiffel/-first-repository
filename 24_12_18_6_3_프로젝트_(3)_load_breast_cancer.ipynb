{
  "cells": [
    {
      "cell_type": "markdown",
      "metadata": {
        "id": "view-in-github",
        "colab_type": "text"
      },
      "source": [
        "<a href=\"https://colab.research.google.com/github/EUNSOLLEE-aiffel/first-repository/blob/master/24_12_18_6_3_%ED%94%84%EB%A1%9C%EC%A0%9D%ED%8A%B8_(3)_load_breast_cancer.ipynb\" target=\"_parent\"><img src=\"https://colab.research.google.com/assets/colab-badge.svg\" alt=\"Open In Colab\"/></a>"
      ]
    },
    {
      "cell_type": "code",
      "execution_count": 102,
      "metadata": {
        "id": "Kvcdn2ds4N5B"
      },
      "outputs": [],
      "source": [
        "# (1) 필요한 모듈 import하기\n",
        "from sklearn.datasets import load_breast_cancer\n",
        "from sklearn.model_selection import train_test_split\n",
        "from sklearn.metrics import classification_report"
      ]
    },
    {
      "cell_type": "code",
      "execution_count": 103,
      "metadata": {
        "colab": {
          "base_uri": "https://localhost:8080/"
        },
        "id": "-p_khjT64gZu",
        "outputId": "bb220b6b-8e6b-4402-a673-fc4ce4173afc"
      },
      "outputs": [
        {
          "output_type": "stream",
          "name": "stdout",
          "text": [
            "dict_keys(['data', 'target', 'frame', 'target_names', 'DESCR', 'feature_names', 'filename', 'data_module'])\n"
          ]
        }
      ],
      "source": [
        "# (2) 데이터 준비\n",
        "from sklearn.datasets import load_breast_cancer\n",
        "cancer = load_breast_cancer()\n",
        "print(cancer.keys())"
      ]
    },
    {
      "cell_type": "code",
      "execution_count": 104,
      "metadata": {
        "colab": {
          "base_uri": "https://localhost:8080/"
        },
        "id": "DFCdXH125xsa",
        "outputId": "913489d8-fcf2-45e5-ca46-d7d23048de9f"
      },
      "outputs": [
        {
          "output_type": "stream",
          "name": "stdout",
          "text": [
            "Feature Data Shape: (569, 30)\n",
            "Label Data Shape: (569,)\n",
            "Target Names: ['malignant' 'benign']\n",
            ".. _breast_cancer_dataset:\n",
            "\n",
            "Breast cancer wisconsin (diagnostic) dataset\n",
            "--------------------------------------------\n",
            "\n",
            "**Data Set Characteristics:**\n",
            "\n",
            ":Number of Instances: 569\n",
            "\n",
            ":Number of Attributes: 30 numeric, predictive attributes and the class\n",
            "\n",
            ":Attribute Information:\n",
            "    - radius (mean of distances from center to points on the perimeter)\n",
            "    - texture (standard deviation of gray-scale values)\n",
            "    - perimeter\n",
            "    - area\n",
            "    - smoothness (local variation in radius lengths)\n",
            "    - compactness (perimeter^2 / area - 1.0)\n",
            "    - concavity (severity of concave portions of the contour)\n",
            "    - concave points (number of concave portions of the contour)\n",
            "    - symmetry\n",
            "    - fractal dimension (\"coastline approximation\" - 1)\n",
            "\n",
            "    The mean, standard error, and \"worst\" or largest (mean of the three\n",
            "    worst/largest values) of these features were computed for each image,\n",
            "    resulting in 30 features.  For instance, field 0 is Mean Radius, field\n",
            "    10 is Radius SE, field 20 is Worst Radius.\n",
            "\n",
            "    - class:\n",
            "            - WDBC-Malignant\n",
            "            - WDBC-Benign\n",
            "\n",
            ":Summary Statistics:\n",
            "\n",
            "===================================== ====== ======\n",
            "                                        Min    Max\n",
            "===================================== ====== ======\n",
            "radius (mean):                        6.981  28.11\n",
            "texture (mean):                       9.71   39.28\n",
            "perimeter (mean):                     43.79  188.5\n",
            "area (mean):                          143.5  2501.0\n",
            "smoothness (mean):                    0.053  0.163\n",
            "compactness (mean):                   0.019  0.345\n",
            "concavity (mean):                     0.0    0.427\n",
            "concave points (mean):                0.0    0.201\n",
            "symmetry (mean):                      0.106  0.304\n",
            "fractal dimension (mean):             0.05   0.097\n",
            "radius (standard error):              0.112  2.873\n",
            "texture (standard error):             0.36   4.885\n",
            "perimeter (standard error):           0.757  21.98\n",
            "area (standard error):                6.802  542.2\n",
            "smoothness (standard error):          0.002  0.031\n",
            "compactness (standard error):         0.002  0.135\n",
            "concavity (standard error):           0.0    0.396\n",
            "concave points (standard error):      0.0    0.053\n",
            "symmetry (standard error):            0.008  0.079\n",
            "fractal dimension (standard error):   0.001  0.03\n",
            "radius (worst):                       7.93   36.04\n",
            "texture (worst):                      12.02  49.54\n",
            "perimeter (worst):                    50.41  251.2\n",
            "area (worst):                         185.2  4254.0\n",
            "smoothness (worst):                   0.071  0.223\n",
            "compactness (worst):                  0.027  1.058\n",
            "concavity (worst):                    0.0    1.252\n",
            "concave points (worst):               0.0    0.291\n",
            "symmetry (worst):                     0.156  0.664\n",
            "fractal dimension (worst):            0.055  0.208\n",
            "===================================== ====== ======\n",
            "\n",
            ":Missing Attribute Values: None\n",
            "\n",
            ":Class Distribution: 212 - Malignant, 357 - Benign\n",
            "\n",
            ":Creator:  Dr. William H. Wolberg, W. Nick Street, Olvi L. Mangasarian\n",
            "\n",
            ":Donor: Nick Street\n",
            "\n",
            ":Date: November, 1995\n",
            "\n",
            "This is a copy of UCI ML Breast Cancer Wisconsin (Diagnostic) datasets.\n",
            "https://goo.gl/U2Uwz2\n",
            "\n",
            "Features are computed from a digitized image of a fine needle\n",
            "aspirate (FNA) of a breast mass.  They describe\n",
            "characteristics of the cell nuclei present in the image.\n",
            "\n",
            "Separating plane described above was obtained using\n",
            "Multisurface Method-Tree (MSM-T) [K. P. Bennett, \"Decision Tree\n",
            "Construction Via Linear Programming.\" Proceedings of the 4th\n",
            "Midwest Artificial Intelligence and Cognitive Science Society,\n",
            "pp. 97-101, 1992], a classification method which uses linear\n",
            "programming to construct a decision tree.  Relevant features\n",
            "were selected using an exhaustive search in the space of 1-4\n",
            "features and 1-3 separating planes.\n",
            "\n",
            "The actual linear program used to obtain the separating plane\n",
            "in the 3-dimensional space is that described in:\n",
            "[K. P. Bennett and O. L. Mangasarian: \"Robust Linear\n",
            "Programming Discrimination of Two Linearly Inseparable Sets\",\n",
            "Optimization Methods and Software 1, 1992, 23-34].\n",
            "\n",
            "This database is also available through the UW CS ftp server:\n",
            "\n",
            "ftp ftp.cs.wisc.edu\n",
            "cd math-prog/cpo-dataset/machine-learn/WDBC/\n",
            "\n",
            ".. dropdown:: References\n",
            "\n",
            "  - W.N. Street, W.H. Wolberg and O.L. Mangasarian. Nuclear feature extraction\n",
            "    for breast tumor diagnosis. IS&T/SPIE 1993 International Symposium on\n",
            "    Electronic Imaging: Science and Technology, volume 1905, pages 861-870,\n",
            "    San Jose, CA, 1993.\n",
            "  - O.L. Mangasarian, W.N. Street and W.H. Wolberg. Breast cancer diagnosis and\n",
            "    prognosis via linear programming. Operations Research, 43(4), pages 570-577,\n",
            "    July-August 1995.\n",
            "  - W.H. Wolberg, W.N. Street, and O.L. Mangasarian. Machine learning techniques\n",
            "    to diagnose breast cancer from fine-needle aspirates. Cancer Letters 77 (1994)\n",
            "    163-171.\n",
            "\n"
          ]
        }
      ],
      "source": [
        "# (3) 데이터 이해하기\n",
        "\n",
        "# Feature Data 지정하기\n",
        "cancer_data = cancer.data\n",
        "print(\"Feature Data Shape:\", cancer_data.shape)\n",
        "\n",
        "# Label Data 지정하기\n",
        "cancer_labels = cancer.target\n",
        "print(\"Label Data Shape:\", cancer_labels.shape)\n",
        "\n",
        "# Target Names 출력해 보기\n",
        "target_names = cancer.target_names\n",
        "print(\"Target Names:\", target_names)\n",
        "\n",
        "# 데이터 Describe 해 보기\n",
        "print(cancer.DESCR)"
      ]
    },
    {
      "cell_type": "code",
      "execution_count": 105,
      "metadata": {
        "id": "9JKtzGKMO2Gp"
      },
      "outputs": [],
      "source": [
        "# (4) train, test 데이터 분리\n",
        "X_train, X_test, y_train, y_test = train_test_split(cancer_data,\n",
        "                                                    cancer_labels,\n",
        "                                                    test_size=0.2,\n",
        "                                                    random_state=7)"
      ]
    },
    {
      "cell_type": "code",
      "execution_count": 106,
      "metadata": {
        "colab": {
          "base_uri": "https://localhost:8080/"
        },
        "id": "vq72KFDARYrL",
        "outputId": "f72916bb-ff0f-4013-ce63-a436f2032809"
      },
      "outputs": [
        {
          "output_type": "stream",
          "name": "stdout",
          "text": [
            "[ Decision Tree 결과 지표 ]\n",
            "\n",
            "** confusion_matrix:\n",
            " [[33  7]\n",
            " [ 3 71]]\n",
            "\n",
            "** Accuracy:\n",
            " 0.9122807017543859\n",
            "\n",
            "** Precision, Recall, F1-Score:\n",
            "               precision    recall  f1-score   support\n",
            "\n",
            "           0       0.92      0.82      0.87        40\n",
            "           1       0.91      0.96      0.93        74\n",
            "\n",
            "    accuracy                           0.91       114\n",
            "   macro avg       0.91      0.89      0.90       114\n",
            "weighted avg       0.91      0.91      0.91       114\n",
            "\n"
          ]
        }
      ],
      "source": [
        "# (5) 다양한 모델로 학습시켜보기\n",
        "\n",
        "# Decision Tree 사용해 보기\n",
        "from sklearn.tree import DecisionTreeClassifier\n",
        "\n",
        "decision_tree = DecisionTreeClassifier(random_state=32) # 객체 생성\n",
        "decision_tree.fit(X_train, y_train) # 훈련\n",
        "y_pred = decision_tree.predict(X_test) # 예측\n",
        "\n",
        "\n",
        "# (6) 모델을 평가해 보기\n",
        "\n",
        "print('[ Decision Tree 결과 지표 ]')\n",
        "print()\n",
        "\n",
        "# 혼동 행렬 (confusion_matrix)\n",
        "from sklearn.metrics import confusion_matrix\n",
        "matrix=confusion_matrix(y_test, y_pred)\n",
        "print(\"** confusion_matrix:\\n\",matrix)\n",
        "# 33개 : 실제 0인 데이터를 모델이 0으로 예측\n",
        "# 7개 : 실제 0인 데이터를 모델이 1로 예측\n",
        "# 3개 : 실제 1인 데이터를 모델이 1로 예측\n",
        "# 71개 : 실제 1인 데이터를 모델이 0으로 예측\n",
        "# 즉, 이 모델은 10개의 데이터를 잘못 예측함\n",
        "print()\n",
        "\n",
        "# 정확도 (Accuracy)\n",
        "from sklearn.metrics import accuracy_score\n",
        "accuracy = accuracy_score(y_test, y_pred)\n",
        "print(\"** Accuracy:\\n\", accuracy)\n",
        "# 정확도 : 91%\n",
        "print()\n",
        "\n",
        "# 정밀도 (Precision), 재현율 (Recall), F1-Score\n",
        "print(\"** Precision, Recall, F1-Score:\\n\",classification_report(y_test, y_pred))\n",
        "# \"0\"의 정밀도, 재현율, F1-Score : 92%, 82%, 87%"
      ]
    },
    {
      "cell_type": "code",
      "execution_count": 107,
      "metadata": {
        "colab": {
          "base_uri": "https://localhost:8080/"
        },
        "id": "LbJzwrzpTfUT",
        "outputId": "a8203389-7fa9-491c-bd38-a3a450876585"
      },
      "outputs": [
        {
          "output_type": "stream",
          "name": "stdout",
          "text": [
            "[ Random Forest 결과 지표 ]\n",
            "\n",
            "** confusion_matrix:\n",
            " [[40  0]\n",
            " [ 0 74]]\n",
            "\n",
            "** Accuracy:\n",
            " 1.0\n",
            "\n",
            "** Precision, Recall, F1-Score:\n",
            "               precision    recall  f1-score   support\n",
            "\n",
            "           0       1.00      1.00      1.00        40\n",
            "           1       1.00      1.00      1.00        74\n",
            "\n",
            "    accuracy                           1.00       114\n",
            "   macro avg       1.00      1.00      1.00       114\n",
            "weighted avg       1.00      1.00      1.00       114\n",
            "\n"
          ]
        }
      ],
      "source": [
        "# Random Forest 사용해 보기\n",
        "from sklearn.ensemble import RandomForestClassifier\n",
        "\n",
        "random_forest = RandomForestClassifier(random_state=32) # 객체 생성\n",
        "random_forest.fit(X_train, y_train) # 훈련\n",
        "y_pred = random_forest.predict(X_test) # 예측\n",
        "\n",
        "\n",
        "# (6) 모델을 평가해 보기\n",
        "\n",
        "print('[ Random Forest 결과 지표 ]')\n",
        "print()\n",
        "\n",
        "# 혼동 행렬 (confusion_matrix)\n",
        "from sklearn.metrics import confusion_matrix\n",
        "matrix=confusion_matrix(y_test, y_pred)\n",
        "print(\"** confusion_matrix:\\n\",matrix)\n",
        "# 이 모델은 잘못 예측한 데이터가 없음\n",
        "print()\n",
        "\n",
        "# 정확도 (Accuracy)\n",
        "from sklearn.metrics import accuracy_score\n",
        "accuracy = accuracy_score(y_test, y_pred)\n",
        "print(\"** Accuracy:\\n\", accuracy)\n",
        "# 정확도 : 100%\n",
        "print()\n",
        "\n",
        "# 정밀도 (Precision), 재현율 (Recall), F1-Score\n",
        "print(\"** Precision, Recall, F1-Score:\\n\",classification_report(y_test, y_pred))\n",
        "# \"0\"의 정밀도, 재현율, F1-Score : 100%, 100%, 100%"
      ]
    },
    {
      "cell_type": "code",
      "execution_count": 108,
      "metadata": {
        "colab": {
          "base_uri": "https://localhost:8080/"
        },
        "id": "bUWmKw6QTff2",
        "outputId": "1489fa80-7621-495f-dfc9-08bc9a145811"
      },
      "outputs": [
        {
          "output_type": "stream",
          "name": "stdout",
          "text": [
            "[ SVM 결과 지표 ]\n",
            "\n",
            "** confusion_matrix:\n",
            " [[29 11]\n",
            " [ 0 74]]\n",
            "\n",
            "** Accuracy:\n",
            " 0.9035087719298246\n",
            "\n",
            "** Precision, Recall, F1-Score:\n",
            "               precision    recall  f1-score   support\n",
            "\n",
            "           0       1.00      0.72      0.84        40\n",
            "           1       0.87      1.00      0.93        74\n",
            "\n",
            "    accuracy                           0.90       114\n",
            "   macro avg       0.94      0.86      0.89       114\n",
            "weighted avg       0.92      0.90      0.90       114\n",
            "\n"
          ]
        }
      ],
      "source": [
        "# SVM 사용해 보기\n",
        "from sklearn import svm\n",
        "\n",
        "svm_model = svm.SVC() # 객체 생성\n",
        "svm_model.fit(X_train, y_train) # 훈련\n",
        "y_pred = svm_model.predict(X_test) # 예측\n",
        "\n",
        "\n",
        "# (6) 모델을 평가해 보기\n",
        "\n",
        "print('[ SVM 결과 지표 ]')\n",
        "print()\n",
        "\n",
        "# 혼동 행렬 (confusion_matrix)\n",
        "from sklearn.metrics import confusion_matrix\n",
        "matrix=confusion_matrix(y_test, y_pred)\n",
        "print(\"** confusion_matrix:\\n\",matrix)\n",
        "# 이 모델은 11개의 데이터를 잘못 예측함\n",
        "print()\n",
        "\n",
        "# 정확도 (Accuracy)\n",
        "from sklearn.metrics import accuracy_score\n",
        "accuracy = accuracy_score(y_test, y_pred)\n",
        "print(\"** Accuracy:\\n\", accuracy)\n",
        "# 정확도 : 90%\n",
        "print()\n",
        "\n",
        "# 정밀도 (Precision), 재현율 (Recall), F1-Score\n",
        "print(\"** Precision, Recall, F1-Score:\\n\",classification_report(y_test, y_pred))\n",
        "# \"0\"의 정밀도, 재현율, F1-Score : 100%, 72%, 84%"
      ]
    },
    {
      "cell_type": "code",
      "execution_count": 109,
      "metadata": {
        "colab": {
          "base_uri": "https://localhost:8080/"
        },
        "id": "9TawVsQNTfnf",
        "outputId": "42956d52-9ec7-42c1-88d2-13d43ff1eb0e"
      },
      "outputs": [
        {
          "output_type": "stream",
          "name": "stdout",
          "text": [
            "[ SGD Classifier 결과 지표 ]\n",
            "\n",
            "** confusion_matrix:\n",
            " [[33  7]\n",
            " [ 6 68]]\n",
            "\n",
            "** Accuracy:\n",
            " 0.8859649122807017\n",
            "\n",
            "** Precision, Recall, F1-Score:\n",
            "               precision    recall  f1-score   support\n",
            "\n",
            "           0       0.85      0.82      0.84        40\n",
            "           1       0.91      0.92      0.91        74\n",
            "\n",
            "    accuracy                           0.89       114\n",
            "   macro avg       0.88      0.87      0.87       114\n",
            "weighted avg       0.89      0.89      0.89       114\n",
            "\n"
          ]
        }
      ],
      "source": [
        "# SGD Classifier 사용해 보기\n",
        "from sklearn.linear_model import SGDClassifier\n",
        "\n",
        "sgd_model = SGDClassifier() # 객체 생성\n",
        "sgd_model.fit(X_train, y_train) # 훈련\n",
        "y_pred = sgd_model.predict(X_test) # 예측\n",
        "\n",
        "\n",
        "# (6) 모델을 평가해 보기\n",
        "\n",
        "print('[ SGD Classifier 결과 지표 ]')\n",
        "print()\n",
        "\n",
        "# 혼동 행렬 (confusion_matrix)\n",
        "from sklearn.metrics import confusion_matrix\n",
        "matrix=confusion_matrix(y_test, y_pred)\n",
        "print(\"** confusion_matrix:\\n\",matrix)\n",
        "# 이 모델은 13개의 데이터를 잘못 예측함\n",
        "print()\n",
        "\n",
        "# 정확도 (Accuracy)\n",
        "from sklearn.metrics import accuracy_score\n",
        "accuracy = accuracy_score(y_test, y_pred)\n",
        "print(\"** Accuracy:\\n\", accuracy)\n",
        "# 정확도 : 89%\n",
        "print()\n",
        "\n",
        "# 정밀도 (Precision), 재현율 (Recall), F1-Score\n",
        "print(\"** Precision, Recall, F1-Score:\\n\",classification_report(y_test, y_pred))\n",
        "# \"0\"의 정밀도, 재현율, F1-Score : 85%, 82%, 84%\n",
        "\n",
        "#???"
      ]
    },
    {
      "cell_type": "code",
      "execution_count": 110,
      "metadata": {
        "colab": {
          "base_uri": "https://localhost:8080/"
        },
        "id": "AVZ1efpXTfxz",
        "outputId": "0009929d-a8bc-4bf3-b7c7-bcf0e7163aae"
      },
      "outputs": [
        {
          "output_type": "stream",
          "name": "stdout",
          "text": [
            "[ Logistic Regression 결과 지표 ]\n",
            "\n",
            "** confusion_matrix:\n",
            " [[34  6]\n",
            " [ 0 74]]\n",
            "\n",
            "** Accuracy:\n",
            " 0.9473684210526315\n",
            "\n",
            "** Precision, Recall, F1-Score:\n",
            "               precision    recall  f1-score   support\n",
            "\n",
            "           0       1.00      0.85      0.92        40\n",
            "           1       0.93      1.00      0.96        74\n",
            "\n",
            "    accuracy                           0.95       114\n",
            "   macro avg       0.96      0.93      0.94       114\n",
            "weighted avg       0.95      0.95      0.95       114\n",
            "\n"
          ]
        }
      ],
      "source": [
        "# Logistic Regression 사용해 보기\n",
        "from sklearn.linear_model import LogisticRegression\n",
        "\n",
        "logistic_model = LogisticRegression(solver='liblinear',max_iter=500) # 객체 생성\n",
        "logistic_model.fit(X_train, y_train) # 훈련\n",
        "y_pred = logistic_model.predict(X_test) # 예측\n",
        "\n",
        "\n",
        "# (6) 모델을 평가해 보기\n",
        "\n",
        "print('[ Logistic Regression 결과 지표 ]')\n",
        "print()\n",
        "\n",
        "# 혼동 행렬 (confusion_matrix)\n",
        "from sklearn.metrics import confusion_matrix\n",
        "matrix=confusion_matrix(y_test, y_pred)\n",
        "print(\"** confusion_matrix:\\n\",matrix)\n",
        "# 이 모델은 6개의 데이터를 잘못 예측함\n",
        "print()\n",
        "\n",
        "# 정확도 (Accuracy)\n",
        "from sklearn.metrics import accuracy_score\n",
        "accuracy = accuracy_score(y_test, y_pred)\n",
        "print(\"** Accuracy:\\n\", accuracy)\n",
        "# 정확도 : 95%\n",
        "print()\n",
        "\n",
        "# 정밀도 (Precision), 재현율 (Recall), F1-Score\n",
        "print(\"** Precision, Recall, F1-Score:\\n\",classification_report(y_test, y_pred))\n",
        "# \"0\"의 정밀도, 재현율, F1-Score : 100%, 85%, 92%"
      ]
    },
    {
      "cell_type": "markdown",
      "source": [
        "# (6) 모델을 평가해 보기\n",
        "1. 학습된 모델들의 테스트데이터 예측 결과를 어떻게 해석해야 할까요?\n",
        "```\n",
        "상기 코드란에 주석으로 작성하였습니다.\n",
        "```\n",
        "2. 모델의 성능을 평가하는 지표로는 무엇이 좋을까요? sklearn.metrics 에서 제공하는 평가지표 중 적절한 것을 선택해 보세요.\n",
        "선택하신 이유도 설명해 주세요.\n",
        "```\n",
        "모델의 성능을 평가하는 가장 적절한 평가지표는 **재현율(Recall)** 입니다.\n",
        "유방암 진단에서는 **양성(1)**, 즉 \"유방암이 있다는 결과\"를 놓치는 것이 매우 위험합니다.\n",
        "환자의 생명에 심각한 영향을 미칠 수 있기 때문에, **암이 있는 환자(양성)**를 놓치지 않는 것, 즉 재현율(Recall)을 우선적으로 고려하여야 합니다.\n",
        "```"
      ],
      "metadata": {
        "id": "sABrLdC4hIbN"
      }
    }
  ],
  "metadata": {
    "colab": {
      "provenance": [],
      "authorship_tag": "ABX9TyNoegfD0GK353Z8Kp1MsYz5",
      "include_colab_link": true
    },
    "kernelspec": {
      "display_name": "Python 3",
      "name": "python3"
    },
    "language_info": {
      "name": "python"
    }
  },
  "nbformat": 4,
  "nbformat_minor": 0
}